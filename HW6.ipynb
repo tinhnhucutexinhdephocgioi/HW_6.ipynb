{
  "nbformat": 4,
  "nbformat_minor": 0,
  "metadata": {
    "colab": {
      "provenance": [],
      "authorship_tag": "ABX9TyO5FT1iFcBm/j8m0Zj4wy94"
    },
    "kernelspec": {
      "name": "python3",
      "display_name": "Python 3"
    },
    "language_info": {
      "name": "python"
    }
  },
  "cells": [
    {
      "cell_type": "code",
      "execution_count": 1,
      "metadata": {
        "colab": {
          "base_uri": "https://localhost:8080/"
        },
        "id": "HBBR7kIF_7C9",
        "outputId": "f4942397-09f8-4498-e754-5941caf048c9"
      },
      "outputs": [
        {
          "output_type": "stream",
          "name": "stdout",
          "text": [
            "Hello Word\n",
            "New content\n"
          ]
        }
      ],
      "source": [
        "print(\"Hello Word\")\n",
        "print(\"New content\")"
      ]
    }
  ]
}